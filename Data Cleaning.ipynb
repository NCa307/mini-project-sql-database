{
 "cells": [
  {
   "cell_type": "code",
   "execution_count": null,
   "id": "36742934-a326-4b92-be64-e410a6f38466",
   "metadata": {},
   "outputs": [],
   "source": [
    "import pandas as pd\n",
    "ev = pd.read_csv(\"EVsales_data/EVsales_data.csv\")\n",
    "co = pd.read_csv(\"co2_data/MtCO2_flat.csv\")\n",
    "co_pc = pd.read_csv(\"co2_data/CO2_percapita_flat.csv\")"
   ]
  },
  {
   "cell_type": "markdown",
   "id": "68d50ab0",
   "metadata": {},
   "source": [
    "## Data Cleaning functions"
   ]
  },
  {
   "cell_type": "code",
   "execution_count": null,
   "id": "7576d5af",
   "metadata": {
    "vscode": {
     "languageId": "python"
    }
   },
   "outputs": [],
   "source": [
    "def clean_columns(df):\n",
    "    df.columns = [column.replace(\" \", \"_\").lower() for column in df.columns]"
   ]
  }
 ],
 "metadata": {
  "kernelspec": {
   "display_name": "Python [conda env:base] *",
   "language": "python",
   "name": "conda-base-py"
  },
  "language_info": {
   "codemirror_mode": {
    "name": "ipython",
    "version": 3
   },
   "file_extension": ".py",
   "mimetype": "text/x-python",
   "name": "python",
   "nbconvert_exporter": "python",
   "pygments_lexer": "ipython3",
   "version": "3.12.7"
  }
 },
 "nbformat": 4,
 "nbformat_minor": 5
}
