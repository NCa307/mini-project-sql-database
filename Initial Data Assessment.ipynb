{
 "cells": [
  {
   "cell_type": "code",
   "execution_count": null,
   "id": "d07ca7f2-6b86-4cc4-b8e3-db721855b39b",
   "metadata": {},
   "outputs": [],
   "source": []
  }
 ],
 "metadata": {
  "kernelspec": {
   "display_name": "",
   "name": ""
  },
  "language_info": {
   "name": ""
  }
 },
 "nbformat": 4,
 "nbformat_minor": 5
}
