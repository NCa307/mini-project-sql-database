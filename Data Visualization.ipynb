{
 "cells": [
  {
   "cell_type": "code",
   "execution_count": 56,
   "id": "cc408eaf-e793-4e79-98fe-86bbc6935f6d",
   "metadata": {},
   "outputs": [],
   "source": [
    "import numpy as np\n",
    "import pandas as pd\n",
    "import matplotlib.pyplot as plt\n",
    "import seaborn as sns"
   ]
  },
  {
   "cell_type": "code",
   "execution_count": 3,
   "id": "adcd2c32-326e-4308-90a5-cc692d1db938",
   "metadata": {},
   "outputs": [],
   "source": [
    "ev_co = pd.read_csv(\"ev_co2_final.csv\")"
   ]
  },
  {
   "cell_type": "code",
   "execution_count": 19,
   "id": "f5b02d0d-201d-4396-ac47-f5eef79fc107",
   "metadata": {},
   "outputs": [],
   "source": [
    "ev_co.drop(\"Unnamed: 0\", axis=1, inplace=True)"
   ]
  },
  {
   "cell_type": "code",
   "execution_count": 47,
   "id": "48019fd5-1ea7-433c-8025-bac82f2552b2",
   "metadata": {
    "scrolled": true
   },
   "outputs": [
    {
     "name": "stdout",
     "output_type": "stream",
     "text": [
      "The present table contains information on Electric Vehicle (EV) sales and CO2 emissions \n",
      " across 46 countries and 12 years, including: \n",
      " Countries: ['Australia' 'Austria' 'Belgium' 'Brazil' 'Bulgaria' 'Canada' 'Chile'\n",
      " 'China' 'Colombia' 'Costa Rica' 'Croatia' 'Cyprus' 'Czech Republic'\n",
      " 'Denmark' 'Estonia' 'Finland' 'France' 'Germany' 'Greece' 'Hungary'\n",
      " 'Iceland' 'India' 'Ireland' 'Israel' 'Italy' 'Japan' 'Latvia' 'Lithuania'\n",
      " 'Luxembourg' 'Mexico' 'Netherlands' 'New Zealand' 'Norway' 'Poland'\n",
      " 'Portugal' 'Romania' 'Seychelles' 'Slovakia' 'Slovenia' 'South Africa'\n",
      " 'Spain' 'Sweden' 'Switzerland' 'USA' 'United Arab Emirates'\n",
      " 'United Kingdom'] \n",
      " Years: [2011 2012 2013 2014 2015 2016 2017 2018 2019 2020 2021 2010]\n"
     ]
    }
   ],
   "source": [
    "print(f\"The present table contains information on Electric Vehicle (EV) sales and CO2 emissions \\n across {ev_co[\"country\"].nunique()} countries and {ev_co[\"year\"].nunique()} years, including: \\n Countries: {ev_co[\"country\"].unique()} \\n Years: {ev_co[\"year\"].unique()}\")"
   ]
  },
  {
   "cell_type": "code",
   "execution_count": 43,
   "id": "da8454a0-f137-4a89-bca2-b0988731ef26",
   "metadata": {},
   "outputs": [
    {
     "data": {
      "text/html": [
       "<div>\n",
       "<style scoped>\n",
       "    .dataframe tbody tr th:only-of-type {\n",
       "        vertical-align: middle;\n",
       "    }\n",
       "\n",
       "    .dataframe tbody tr th {\n",
       "        vertical-align: top;\n",
       "    }\n",
       "\n",
       "    .dataframe thead th {\n",
       "        text-align: right;\n",
       "    }\n",
       "</style>\n",
       "<table border=\"1\" class=\"dataframe\">\n",
       "  <thead>\n",
       "    <tr style=\"text-align: right;\">\n",
       "      <th></th>\n",
       "      <th>country</th>\n",
       "      <th>year</th>\n",
       "      <th>ev_sales</th>\n",
       "      <th>co2_metric_tons</th>\n",
       "    </tr>\n",
       "  </thead>\n",
       "  <tbody>\n",
       "    <tr>\n",
       "      <th>0</th>\n",
       "      <td>Australia</td>\n",
       "      <td>2011</td>\n",
       "      <td>98</td>\n",
       "      <td>403.83</td>\n",
       "    </tr>\n",
       "    <tr>\n",
       "      <th>1</th>\n",
       "      <td>Australia</td>\n",
       "      <td>2012</td>\n",
       "      <td>550</td>\n",
       "      <td>406.15</td>\n",
       "    </tr>\n",
       "    <tr>\n",
       "      <th>2</th>\n",
       "      <td>Australia</td>\n",
       "      <td>2013</td>\n",
       "      <td>880</td>\n",
       "      <td>397.89</td>\n",
       "    </tr>\n",
       "    <tr>\n",
       "      <th>3</th>\n",
       "      <td>Australia</td>\n",
       "      <td>2014</td>\n",
       "      <td>3200</td>\n",
       "      <td>393.95</td>\n",
       "    </tr>\n",
       "    <tr>\n",
       "      <th>4</th>\n",
       "      <td>Australia</td>\n",
       "      <td>2015</td>\n",
       "      <td>5360</td>\n",
       "      <td>401.79</td>\n",
       "    </tr>\n",
       "    <tr>\n",
       "      <th>...</th>\n",
       "      <td>...</td>\n",
       "      <td>...</td>\n",
       "      <td>...</td>\n",
       "      <td>...</td>\n",
       "    </tr>\n",
       "    <tr>\n",
       "      <th>435</th>\n",
       "      <td>United Kingdom</td>\n",
       "      <td>2017</td>\n",
       "      <td>178070</td>\n",
       "      <td>387.37</td>\n",
       "    </tr>\n",
       "    <tr>\n",
       "      <th>436</th>\n",
       "      <td>United Kingdom</td>\n",
       "      <td>2018</td>\n",
       "      <td>248109</td>\n",
       "      <td>379.73</td>\n",
       "    </tr>\n",
       "    <tr>\n",
       "      <th>437</th>\n",
       "      <td>United Kingdom</td>\n",
       "      <td>2019</td>\n",
       "      <td>326242</td>\n",
       "      <td>364.75</td>\n",
       "    </tr>\n",
       "    <tr>\n",
       "      <th>438</th>\n",
       "      <td>United Kingdom</td>\n",
       "      <td>2020</td>\n",
       "      <td>588299</td>\n",
       "      <td>326.26</td>\n",
       "    </tr>\n",
       "    <tr>\n",
       "      <th>439</th>\n",
       "      <td>United Kingdom</td>\n",
       "      <td>2021</td>\n",
       "      <td>1020273</td>\n",
       "      <td>346.77</td>\n",
       "    </tr>\n",
       "  </tbody>\n",
       "</table>\n",
       "<p>440 rows × 4 columns</p>\n",
       "</div>"
      ],
      "text/plain": [
       "            country  year  ev_sales  co2_metric_tons\n",
       "0         Australia  2011        98           403.83\n",
       "1         Australia  2012       550           406.15\n",
       "2         Australia  2013       880           397.89\n",
       "3         Australia  2014      3200           393.95\n",
       "4         Australia  2015      5360           401.79\n",
       "..              ...   ...       ...              ...\n",
       "435  United Kingdom  2017    178070           387.37\n",
       "436  United Kingdom  2018    248109           379.73\n",
       "437  United Kingdom  2019    326242           364.75\n",
       "438  United Kingdom  2020    588299           326.26\n",
       "439  United Kingdom  2021   1020273           346.77\n",
       "\n",
       "[440 rows x 4 columns]"
      ]
     },
     "execution_count": 43,
     "metadata": {},
     "output_type": "execute_result"
    }
   ],
   "source": [
    "ev_co"
   ]
  },
  {
   "cell_type": "markdown",
   "id": "e287f9e7-a929-4577-bf8e-8bf71a08dbed",
   "metadata": {},
   "source": [
    "## Summary Statistics"
   ]
  },
  {
   "cell_type": "code",
   "execution_count": 33,
   "id": "762e351f-513b-451a-80f1-75076aff0c50",
   "metadata": {},
   "outputs": [
    {
     "data": {
      "text/html": [
       "<div>\n",
       "<style scoped>\n",
       "    .dataframe tbody tr th:only-of-type {\n",
       "        vertical-align: middle;\n",
       "    }\n",
       "\n",
       "    .dataframe tbody tr th {\n",
       "        vertical-align: top;\n",
       "    }\n",
       "\n",
       "    .dataframe thead th {\n",
       "        text-align: right;\n",
       "    }\n",
       "</style>\n",
       "<table border=\"1\" class=\"dataframe\">\n",
       "  <thead>\n",
       "    <tr style=\"text-align: right;\">\n",
       "      <th></th>\n",
       "      <th>ev_sales</th>\n",
       "      <th>co2_metric_tons</th>\n",
       "    </tr>\n",
       "  </thead>\n",
       "  <tbody>\n",
       "    <tr>\n",
       "      <th>count</th>\n",
       "      <td>440</td>\n",
       "      <td>440</td>\n",
       "    </tr>\n",
       "    <tr>\n",
       "      <th>mean</th>\n",
       "      <td>141295</td>\n",
       "      <td>673</td>\n",
       "    </tr>\n",
       "    <tr>\n",
       "      <th>std</th>\n",
       "      <td>696246</td>\n",
       "      <td>1833</td>\n",
       "    </tr>\n",
       "    <tr>\n",
       "      <th>min</th>\n",
       "      <td>3</td>\n",
       "      <td>0</td>\n",
       "    </tr>\n",
       "    <tr>\n",
       "      <th>25%</th>\n",
       "      <td>491</td>\n",
       "      <td>40</td>\n",
       "    </tr>\n",
       "    <tr>\n",
       "      <th>50%</th>\n",
       "      <td>4119</td>\n",
       "      <td>83</td>\n",
       "    </tr>\n",
       "    <tr>\n",
       "      <th>75%</th>\n",
       "      <td>39460</td>\n",
       "      <td>417</td>\n",
       "    </tr>\n",
       "    <tr>\n",
       "      <th>max</th>\n",
       "      <td>11073857</td>\n",
       "      <td>11472</td>\n",
       "    </tr>\n",
       "  </tbody>\n",
       "</table>\n",
       "</div>"
      ],
      "text/plain": [
       "       ev_sales  co2_metric_tons\n",
       "count       440              440\n",
       "mean     141295              673\n",
       "std      696246             1833\n",
       "min           3                0\n",
       "25%         491               40\n",
       "50%        4119               83\n",
       "75%       39460              417\n",
       "max    11073857            11472"
      ]
     },
     "execution_count": 33,
     "metadata": {},
     "output_type": "execute_result"
    }
   ],
   "source": [
    "ev_co[[\"ev_sales\", \"co2_metric_tons\"]].describe().astype(int)"
   ]
  },
  {
   "cell_type": "code",
   "execution_count": 50,
   "id": "49a727a7-f5c8-4913-80db-df3f8029d1e5",
   "metadata": {
    "collapsed": true,
    "jupyter": {
     "outputs_hidden": true
    }
   },
   "outputs": [
    {
     "data": {
      "text/html": [
       "<div>\n",
       "<style scoped>\n",
       "    .dataframe tbody tr th:only-of-type {\n",
       "        vertical-align: middle;\n",
       "    }\n",
       "\n",
       "    .dataframe tbody tr th {\n",
       "        vertical-align: top;\n",
       "    }\n",
       "\n",
       "    .dataframe thead th {\n",
       "        text-align: right;\n",
       "    }\n",
       "</style>\n",
       "<table border=\"1\" class=\"dataframe\">\n",
       "  <thead>\n",
       "    <tr style=\"text-align: right;\">\n",
       "      <th></th>\n",
       "      <th>year</th>\n",
       "      <th>ev_sales</th>\n",
       "      <th>co2_metric_tons</th>\n",
       "    </tr>\n",
       "  </thead>\n",
       "  <tbody>\n",
       "    <tr>\n",
       "      <th>count</th>\n",
       "      <td>440</td>\n",
       "      <td>440</td>\n",
       "      <td>440</td>\n",
       "    </tr>\n",
       "    <tr>\n",
       "      <th>mean</th>\n",
       "      <td>2016</td>\n",
       "      <td>141295</td>\n",
       "      <td>673</td>\n",
       "    </tr>\n",
       "    <tr>\n",
       "      <th>std</th>\n",
       "      <td>3</td>\n",
       "      <td>696246</td>\n",
       "      <td>1833</td>\n",
       "    </tr>\n",
       "    <tr>\n",
       "      <th>min</th>\n",
       "      <td>2010</td>\n",
       "      <td>3</td>\n",
       "      <td>0</td>\n",
       "    </tr>\n",
       "    <tr>\n",
       "      <th>25%</th>\n",
       "      <td>2014</td>\n",
       "      <td>491</td>\n",
       "      <td>40</td>\n",
       "    </tr>\n",
       "    <tr>\n",
       "      <th>50%</th>\n",
       "      <td>2017</td>\n",
       "      <td>4119</td>\n",
       "      <td>83</td>\n",
       "    </tr>\n",
       "    <tr>\n",
       "      <th>75%</th>\n",
       "      <td>2019</td>\n",
       "      <td>39460</td>\n",
       "      <td>417</td>\n",
       "    </tr>\n",
       "    <tr>\n",
       "      <th>max</th>\n",
       "      <td>2021</td>\n",
       "      <td>11073857</td>\n",
       "      <td>11472</td>\n",
       "    </tr>\n",
       "  </tbody>\n",
       "</table>\n",
       "</div>"
      ],
      "text/plain": [
       "       year  ev_sales  co2_metric_tons\n",
       "count   440       440              440\n",
       "mean   2016    141295              673\n",
       "std       3    696246             1833\n",
       "min    2010         3                0\n",
       "25%    2014       491               40\n",
       "50%    2017      4119               83\n",
       "75%    2019     39460              417\n",
       "max    2021  11073857            11472"
      ]
     },
     "execution_count": 50,
     "metadata": {},
     "output_type": "execute_result"
    }
   ],
   "source": [
    "ev_co.describe().astype(int)"
   ]
  },
  {
   "cell_type": "code",
   "execution_count": 61,
   "id": "a036eb68-71c2-4af3-b0da-5ef98a60bd3e",
   "metadata": {},
   "outputs": [
    {
     "data": {
      "text/html": [
       "<div>\n",
       "<style scoped>\n",
       "    .dataframe tbody tr th:only-of-type {\n",
       "        vertical-align: middle;\n",
       "    }\n",
       "\n",
       "    .dataframe tbody tr th {\n",
       "        vertical-align: top;\n",
       "    }\n",
       "\n",
       "    .dataframe thead th {\n",
       "        text-align: right;\n",
       "    }\n",
       "</style>\n",
       "<table border=\"1\" class=\"dataframe\">\n",
       "  <thead>\n",
       "    <tr style=\"text-align: right;\">\n",
       "      <th></th>\n",
       "      <th>country</th>\n",
       "      <th>year</th>\n",
       "      <th>ev_sales</th>\n",
       "      <th>co2_metric_tons</th>\n",
       "    </tr>\n",
       "  </thead>\n",
       "  <tbody>\n",
       "    <tr>\n",
       "      <th>88</th>\n",
       "      <td>China</td>\n",
       "      <td>2021</td>\n",
       "      <td>11073857</td>\n",
       "      <td>11472.37</td>\n",
       "    </tr>\n",
       "  </tbody>\n",
       "</table>\n",
       "</div>"
      ],
      "text/plain": [
       "   country  year  ev_sales  co2_metric_tons\n",
       "88   China  2021  11073857         11472.37"
      ]
     },
     "execution_count": 61,
     "metadata": {},
     "output_type": "execute_result"
    }
   ],
   "source": [
    "ev_co[ev_co[\"ev_sales\"] == ev_co[\"ev_sales\"].max()]"
   ]
  },
  {
   "cell_type": "code",
   "execution_count": 35,
   "id": "c8d1e5bc-5282-49dc-ab2c-3e0d943a32fd",
   "metadata": {},
   "outputs": [
    {
     "data": {
      "text/plain": [
       "<Axes: xlabel='ev_sales', ylabel='co2_metric_tons'>"
      ]
     },
     "execution_count": 35,
     "metadata": {},
     "output_type": "execute_result"
    },
    {
     "data": {
      "image/png": "[encoded data removed]",
      "text/plain": [
       "<Figure size 640x480 with 1 Axes>"
      ]
     },
     "metadata": {},
     "output_type": "display_data"
    }
   ],
   "source": [
    "import seaborn as sns\n",
    "\n",
    "sns.boxplot(x='ev_sales', y='co2_metric_tons', data=ev_co)"
   ]
  },
  {
   "cell_type": "code",
   "execution_count": 40,
   "id": "89d4f926-7966-4918-973d-2392638d722e",
   "metadata": {},
   "outputs": [
    {
     "data": {
      "text/html": [
       "<div>\n",
       "<style scoped>\n",
       "    .dataframe tbody tr th:only-of-type {\n",
       "        vertical-align: middle;\n",
       "    }\n",
       "\n",
       "    .dataframe tbody tr th {\n",
       "        vertical-align: top;\n",
       "    }\n",
       "\n",
       "    .dataframe thead th {\n",
       "        text-align: right;\n",
       "    }\n",
       "</style>\n",
       "<table border=\"1\" class=\"dataframe\">\n",
       "  <thead>\n",
       "    <tr style=\"text-align: right;\">\n",
       "      <th></th>\n",
       "      <th>ev_sales</th>\n",
       "      <th>co2_metric_tons</th>\n",
       "    </tr>\n",
       "  </thead>\n",
       "  <tbody>\n",
       "    <tr>\n",
       "      <th>ev_sales</th>\n",
       "      <td>1.000000</td>\n",
       "      <td>0.590997</td>\n",
       "    </tr>\n",
       "    <tr>\n",
       "      <th>co2_metric_tons</th>\n",
       "      <td>0.590997</td>\n",
       "      <td>1.000000</td>\n",
       "    </tr>\n",
       "  </tbody>\n",
       "</table>\n",
       "</div>"
      ],
      "text/plain": [
       "                 ev_sales  co2_metric_tons\n",
       "ev_sales         1.000000         0.590997\n",
       "co2_metric_tons  0.590997         1.000000"
      ]
     },
     "execution_count": 40,
     "metadata": {},
     "output_type": "execute_result"
    }
   ],
   "source": [
    "ev_co_matrix = ev_co[[\"ev_sales\", \"co2_metric_tons\"]].corr()\n",
    "ev_co_matrix"
   ]
  },
  {
   "cell_type": "code",
   "execution_count": 41,
   "id": "a318c593-d459-4cab-8f77-ebc3675130d2",
   "metadata": {},
   "outputs": [
    {
     "data": {
      "text/plain": [
       "<Axes: >"
      ]
     },
     "execution_count": 41,
     "metadata": {},
     "output_type": "execute_result"
    },
    {
     "data": {
      "image/png": "[encoded data removed]",
      "text/plain": [
       "<Figure size 640x480 with 2 Axes>"
      ]
     },
     "metadata": {},
     "output_type": "display_data"
    }
   ],
   "source": [
    "sns.heatmap(ev_co_matrix, annot=True)"
   ]
  },
  {
   "cell_type": "code",
   "execution_count": 63,
   "id": "a42302c7-d7b8-4f37-9e6d-3bbb507d6a6c",
   "metadata": {},
   "outputs": [
    {
     "data": {
      "text/plain": [
       "<seaborn.axisgrid.FacetGrid at 0x148499340>"
      ]
     },
     "execution_count": 63,
     "metadata": {},
     "output_type": "execute_result"
    },
    {
     "data": {
      "image/png": "[encoded data removed]",
      "text/plain": [
       "<Figure size 500x500 with 1 Axes>"
      ]
     },
     "metadata": {},
     "output_type": "display_data"
    }
   ],
   "source": [
    "sns.relplot(data=ev_co, x=\"co2_metric_tons\", y=\"ev_sales\", kind=\"line\")"
   ]
  },
  {
   "cell_type": "code",
   "execution_count": 62,
   "id": "e4df97f4-b3b0-4a99-a7eb-de64c520f17b",
   "metadata": {},
   "outputs": [
    {
     "data": {
      "text/plain": [
       "<seaborn.axisgrid.FacetGrid at 0x14821ddc0>"
      ]
     },
     "execution_count": 62,
     "metadata": {},
     "output_type": "execute_result"
    },
    {
     "data": {
      "image/png": "[encoded data removed]",
      "text/plain": [
       "<Figure size 585.5x500 with 1 Axes>"
      ]
     },
     "metadata": {},
     "output_type": "display_data"
    }
   ],
   "source": [
    "sns.relplot(\n",
    "    data=ev_co, kind=\"line\",\n",
    "    x=\"co2_metric_tons\", y=\"ev_sales\", hue=\"year\",\n",
    ")"
   ]
  },
  {
   "cell_type": "code",
   "execution_count": 77,
   "id": "2b1929aa-730d-4b90-81f0-dae7681e0a45",
   "metadata": {},
   "outputs": [
    {
     "data": {
      "text/html": [
       "<div>\n",
       "<style scoped>\n",
       "    .dataframe tbody tr th:only-of-type {\n",
       "        vertical-align: middle;\n",
       "    }\n",
       "\n",
       "    .dataframe tbody tr th {\n",
       "        vertical-align: top;\n",
       "    }\n",
       "\n",
       "    .dataframe thead th {\n",
       "        text-align: right;\n",
       "    }\n",
       "</style>\n",
       "<table border=\"1\" class=\"dataframe\">\n",
       "  <thead>\n",
       "    <tr style=\"text-align: right;\">\n",
       "      <th></th>\n",
       "      <th>country</th>\n",
       "      <th>year</th>\n",
       "      <th>ev_sales</th>\n",
       "      <th>co2_metric_tons</th>\n",
       "    </tr>\n",
       "  </thead>\n",
       "  <tbody>\n",
       "    <tr>\n",
       "      <th>54</th>\n",
       "      <td>Canada</td>\n",
       "      <td>2010</td>\n",
       "      <td>5</td>\n",
       "      <td>556.56</td>\n",
       "    </tr>\n",
       "    <tr>\n",
       "      <th>55</th>\n",
       "      <td>Canada</td>\n",
       "      <td>2011</td>\n",
       "      <td>1075</td>\n",
       "      <td>567.05</td>\n",
       "    </tr>\n",
       "    <tr>\n",
       "      <th>56</th>\n",
       "      <td>Canada</td>\n",
       "      <td>2012</td>\n",
       "      <td>4355</td>\n",
       "      <td>568.22</td>\n",
       "    </tr>\n",
       "    <tr>\n",
       "      <th>57</th>\n",
       "      <td>Canada</td>\n",
       "      <td>2013</td>\n",
       "      <td>8605</td>\n",
       "      <td>572.61</td>\n",
       "    </tr>\n",
       "    <tr>\n",
       "      <th>58</th>\n",
       "      <td>Canada</td>\n",
       "      <td>2014</td>\n",
       "      <td>15805</td>\n",
       "      <td>569.84</td>\n",
       "    </tr>\n",
       "    <tr>\n",
       "      <th>...</th>\n",
       "      <td>...</td>\n",
       "      <td>...</td>\n",
       "      <td>...</td>\n",
       "      <td>...</td>\n",
       "    </tr>\n",
       "    <tr>\n",
       "      <th>435</th>\n",
       "      <td>United Kingdom</td>\n",
       "      <td>2017</td>\n",
       "      <td>178070</td>\n",
       "      <td>387.37</td>\n",
       "    </tr>\n",
       "    <tr>\n",
       "      <th>436</th>\n",
       "      <td>United Kingdom</td>\n",
       "      <td>2018</td>\n",
       "      <td>248109</td>\n",
       "      <td>379.73</td>\n",
       "    </tr>\n",
       "    <tr>\n",
       "      <th>437</th>\n",
       "      <td>United Kingdom</td>\n",
       "      <td>2019</td>\n",
       "      <td>326242</td>\n",
       "      <td>364.75</td>\n",
       "    </tr>\n",
       "    <tr>\n",
       "      <th>438</th>\n",
       "      <td>United Kingdom</td>\n",
       "      <td>2020</td>\n",
       "      <td>588299</td>\n",
       "      <td>326.26</td>\n",
       "    </tr>\n",
       "    <tr>\n",
       "      <th>439</th>\n",
       "      <td>United Kingdom</td>\n",
       "      <td>2021</td>\n",
       "      <td>1020273</td>\n",
       "      <td>346.77</td>\n",
       "    </tr>\n",
       "  </tbody>\n",
       "</table>\n",
       "<p>120 rows × 4 columns</p>\n",
       "</div>"
      ],
      "text/plain": [
       "            country  year  ev_sales  co2_metric_tons\n",
       "54           Canada  2010         5           556.56\n",
       "55           Canada  2011      1075           567.05\n",
       "56           Canada  2012      4355           568.22\n",
       "57           Canada  2013      8605           572.61\n",
       "58           Canada  2014     15805           569.84\n",
       "..              ...   ...       ...              ...\n",
       "435  United Kingdom  2017    178070           387.37\n",
       "436  United Kingdom  2018    248109           379.73\n",
       "437  United Kingdom  2019    326242           364.75\n",
       "438  United Kingdom  2020    588299           326.26\n",
       "439  United Kingdom  2021   1020273           346.77\n",
       "\n",
       "[120 rows x 4 columns]"
      ]
     },
     "execution_count": 77,
     "metadata": {},
     "output_type": "execute_result"
    }
   ],
   "source": [
    "# Top 10 EV buyer countries\n",
    "top10ev = pd.read_csv(\"top10_ev_buyers.csv\")\n",
    "top10ev = ev_co[ev_co[\"country\"].isin(top10ev[\"country\"])]\n",
    "top10ev"
   ]
  },
  {
   "cell_type": "code",
   "execution_count": null,
   "id": "b6a648db-a934-4eb3-b085-6de2b2d4c5fb",
   "metadata": {},
   "outputs": [],
   "source": []
  }
 ],
 "metadata": {
  "kernelspec": {
   "display_name": "Python [conda env:base] *",
   "language": "python",
   "name": "conda-base-py"
  },
  "language_info": {
   "codemirror_mode": {
    "name": "ipython",
    "version": 3
   },
   "file_extension": ".py",
   "mimetype": "text/x-python",
   "name": "python",
   "nbconvert_exporter": "python",
   "pygments_lexer": "ipython3",
   "version": "3.12.7"
  }
 },
 "nbformat": 4,
 "nbformat_minor": 5
}
